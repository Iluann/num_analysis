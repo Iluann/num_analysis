{
 "cells": [
  {
   "cell_type": "markdown",
   "metadata": {},
   "source": [
    "# **Numerical Analysis Project - Week 3**\n",
    "*Mathilde Bénard, Hector Giraud, Emilie Soret - TEAM 5, GROUP E*\n",
    "\n",
    "---"
   ]
  },
  {
   "cell_type": "code",
   "execution_count": null,
   "metadata": {},
   "outputs": [],
   "source": [
    "import numpy as np\n",
    "from scipy.integrate import solve_ivp\n",
    "from mpl_toolkits import mplot3d\n",
    "import matplotlib.pyplot as plt"
   ]
  },
  {
   "cell_type": "markdown",
   "metadata": {},
   "source": [
    "For our team : E.5, we have to consider the following problem \n",
    "\n",
    "$$ \\begin{cases}\n",
    "\\partial_t u = \\beta \\partial^2_x u \\\\\n",
    "u(t, x=0)=a \\\\\n",
    "u(t=0,x)=u_1 cos(\\frac{\\pi x}{2L}) \\\\\n",
    "\\partial_x(t,x=L)=0\n",
    "\\end{cases}$$\n",
    "\n",
    "$$\\forall J \\in \\N, \\text{we define } \\\\\n",
    "h=\\frac{L}{J+1} \\\\\n",
    "\\forall j \\in [1,J], x_j=jh $$\n",
    "\n",
    "1. This is a PDE that is homogeneous and autonome as f=0. It is also linear. \n",
    "\n",
    "2. Let \n",
    "$$J \\in \\N \\\\\n",
    "\\text{We define} \\\\\n",
    "h = \\frac{L}{J+1} \\\\\n",
    "\\forall j \\in \\llbracket 1, J \\rrbracket, x_j = jh \\\\$$\n",
    "\n",
    "To implement the scheme we do the following approximations : \n",
    "\n",
    "(Forward difference at L): We need to define an extra point for u at x=L+h. We define it s.t. \n",
    " $$\\partial_x(t,x=L) \\approx \\frac{u(t,x=L+h)-u(t,x=L)}{h}=0 \\\\ \\text{which implies that} \\\\\n",
    " u(t, x=L+h)=u(t,x=L)$$ \n",
    "\n",
    " (Centered difference) $$\\forall x \\in [0,L], \\forall t \\in [0,T] \\\\ \\partial^2_x u(t,x) \\approx \\frac{u(t,x+h)+u(t,x-h)-2u(t,x)}{h^2}$$\n",
    "\n",
    " This gives us the following discretized problem\n",
    "\n",
    " $$ \\forall t \\in [0,T], \\forall j \\in \\llbracket 1, J \\rrbracket \\\\\n",
    "    \\begin{cases}\n",
    "    v_0(t)=a \\\\\n",
    "    \\frac{v_{J+1}(t)-v_J(t)}{h}=0 \\\\\n",
    "    v'_j(t)=\\beta \\frac{v_{j+1}(t)+v_{j-1}-2v_j(t)}{h^2} \\\\\n",
    "    v_j(0)=u_1 cos(\\frac{\\pi x_j}{2L})\\\\\n",
    "    \\end{cases}$$\n",
    "    \n",
    "with \n",
    "    $$ (v_j)_{j \\in \\llbracket 1, J \\rrbracket} \\in (\\R^{\\R_+})^{j \\in \\llbracket 1, J \\rrbracket}$$\n",
    "\n",
    "which can be rewritten in matrix form as \n",
    "\n",
    "$$ \\begin{cases}\n",
    "\\forall t \\in [0,T], V'(t)=\\frac{-\\beta}{h^2}AV(t)+F \\\\\n",
    "V(0)=V_0\n",
    "\\end{cases}$$\n",
    "with \n",
    "$$ V(0)= \\begin{bmatrix}\n",
    "v_1(0) \\\\\n",
    "\\vdots \\\\\n",
    "v_J(0) \\end{bmatrix} \\\\~\\\\\n",
    "V(t)= \\begin{bmatrix}\n",
    "v_1(t) \\\\\n",
    "\\vdots \\\\~\\\\\n",
    "v_J(t) \\end{bmatrix} \\\\~\\\\\n",
    "V'(t)= \\begin{bmatrix}\n",
    "v'_1(t) \\\\\n",
    "\\vdots \\\\\n",
    "v'_J(t) \\end{bmatrix} \\\\~\\\\\n",
    "A= \\begin{bmatrix}\n",
    " 2 & -1 &  & & 0 \\\\\n",
    " -1 & 2 & -1 &  &  \\\\\n",
    "  & \\ddots & \\ddots & \\ddots &  \\\\\n",
    " &  & -1 & 2 & -1\\\\\n",
    "0 &  &  & -1 & 1\\\\ \\end{bmatrix} \\\\~\\\\\n",
    "F= \\begin{bmatrix}\n",
    "a \\\\\n",
    "0 \\\\\n",
    "\\vdots \\\\\n",
    "0 \\end{bmatrix} \\\\"
   ]
  },
  {
   "cell_type": "code",
   "execution_count": null,
   "metadata": {},
   "outputs": [
    {
     "data": {
      "text/plain": [
       "  message: The solver successfully reached the end of the integration interval.\n",
       "  success: True\n",
       "   status: 0\n",
       "        t: [ 0.000e+00  6.117e-05 ...  9.998e+00  1.000e+01]\n",
       "        y: [[ 2.969e+00  2.947e+00 ...  1.653e-02  1.653e-02]\n",
       "            [ 2.878e+00  2.878e+00 ...  1.652e-02  1.652e-02]\n",
       "            ...\n",
       "            [ 4.269e-01  4.269e-01 ...  1.652e-02  1.653e-02]\n",
       "            [ 8.498e-16  3.148e-03 ...  1.653e-02  1.653e-02]]\n",
       "      sol: None\n",
       " t_events: None\n",
       " y_events: None\n",
       "     nfev: 10052\n",
       "     njev: 0\n",
       "      nlu: 0"
      ]
     },
     "execution_count": 32,
     "metadata": {},
     "output_type": "execute_result"
    }
   ],
   "source": [
    "# Implementation\n",
    "\n",
    "J=10\n",
    "L=1\n",
    "a=2\n",
    "def FDS(L,a,u1, J,b, T):\n",
    "    h=L/(J+1)\n",
    "    F= np.append(a, np.zeros(J)).reshape(J+1,)\n",
    "    D=((-1)*np.eye(J+1, k=-1)+2*np.eye(J+1)-1*np.eye(J+1,k=1))\n",
    "    D[J][J]-=1\n",
    "    V0=np.array([u1*np.cos((np.pi*j*h)/(2*L)) for j in range(1,J+2)])\n",
    "    def f(t,X):\n",
    "       return (-b)/(h**2)*D@X+F\n",
    "    return solve_ivp(f,(0,T),V0)\n",
    "sol = FDS(1, 2, 3, 10, 1,10)"
   ]
  },
  {
   "cell_type": "code",
   "execution_count": null,
   "metadata": {},
   "outputs": [],
   "source": [
    "#Plotting ? \n",
    "fig = plt.figure()\n",
    " \n",
    "# syntax for 3-D projection\n",
    "ax = plt.axes(projection ='3d')\n",
    " \n",
    "# defining all 3 axis\n",
    "z = sol.t\n",
    "x = \n",
    "y = z * np.cos(25 * z)\n",
    " \n",
    "# plotting\n",
    "ax.plot3D(x, y, z, 'green')\n",
    "ax.set_title('3D line plot geeks for geeks')\n",
    "plt.show()"
   ]
  },
  {
   "cell_type": "markdown",
   "metadata": {},
   "source": [
    "Proof of convergence : \n",
    "\n",
    "1. Consistency (Hector )\n",
    "2. "
   ]
  }
 ],
 "metadata": {
  "kernelspec": {
   "display_name": "Python 3",
   "language": "python",
   "name": "python3"
  },
  "language_info": {
   "codemirror_mode": {
    "name": "ipython",
    "version": 3
   },
   "file_extension": ".py",
   "mimetype": "text/x-python",
   "name": "python",
   "nbconvert_exporter": "python",
   "pygments_lexer": "ipython3",
   "version": "3.10.6"
  }
 },
 "nbformat": 4,
 "nbformat_minor": 2
}
