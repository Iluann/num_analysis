{
 "cells": [
  {
   "cell_type": "markdown",
   "metadata": {},
   "source": [
    "# **Numerical Analysis Project - Week 3**\n",
    "*Mathilde Bénard, Hector Giraud, Emilie Soret - TEAM 5, GROUP E*\n",
    "\n",
    "---"
   ]
  },
  {
   "cell_type": "code",
   "execution_count": 16,
   "metadata": {},
   "outputs": [],
   "source": [
    "import numpy as np\n",
    "from scipy.integrate import solve_ivp"
   ]
  },
  {
   "cell_type": "markdown",
   "metadata": {},
   "source": [
    "For our team : E.5, we have to consider the following problem \n",
    "\n",
    "$$ \\begin{cases}\n",
    "\\partial_t u = \\beta \\partial^2_x u \\\\\n",
    "u(t, x=0)=a \\\\\n",
    "u(t=0,x)=u_1 cos(\\frac{\\pi x}{2L}) \\\\\n",
    "\\partial_x(t,x=L)=0\n",
    "\\end{cases}$$\n",
    "\n",
    "$$\\forall J \\in \\N, \\text{we define } \\\\\n",
    "h=\\frac{L}{J+1} \\\\\n",
    "\\forall j \\in [1,J], x_j=jh $$\n",
    "\n",
    "1. This is a PDE that is homogeneous and autonome as f=0. It is also linear. \n",
    "\n",
    "2. Let \n",
    "$$J \\in \\N \\\\\n",
    "\\text{We define} \\\\\n",
    "h = \\frac{L}{J+1} \\\\\n",
    "\\forall j \\in \\llbracket 1, J \\rrbracket, x_j = jh \\\\$$\n",
    "\n",
    "To implement the scheme we do the following approximations : \n",
    "\n",
    "(Forward difference at L): We need to define an extra point for u at x=L+h. We define it s.t. \n",
    " $$\\partial_x(t,x=L) \\approx \\frac{u(t,x=L+h)-u(t,x=L)}{h}=0 \\\\ \\text{which implies that} \\\\\n",
    " u(t, x=L+h)=u(t,x=L)$$ \n",
    "\n",
    " (Centered difference) $$\\forall x \\in [0,L], \\forall t \\in [0,T] \\\\ \\partial^2_x u(t,x) \\approx \\frac{u(t,x+h)+u(t,x-h)-2u(t,x)}{h^2}$$\n",
    "\n",
    " This gives us the following discretized problem\n",
    "\n",
    " $$ \\forall t \\in [0,T], \\forall j \\in \\llbracket 1, J \\rrbracket \\\\\n",
    "    \\begin{cases}\n",
    "    v_0(t)=a \\\\\n",
    "    \\frac{v_{J+1}(t)-v_J(t)}{h}=0 \\\\\n",
    "    v'_j(t)=\\beta \\frac{v_{j+1}(t)+v_{j-1}-2v_j(t)}{h^2} \\\\\n",
    "    v_j(0)=u_1 cos(\\frac{\\pi x_j}{2L})\\\\\n",
    "    \\end{cases}$$\n",
    "    \n",
    "with \n",
    "    $$ (v_j)_{j \\in \\llbracket 1, J \\rrbracket} \\in (\\R^{\\R_+})^{j \\in \\llbracket 1, J \\rrbracket}$$\n",
    "\n",
    "which can be rewritten in matrix form as \n",
    "\n",
    "$$ \\begin{cases}\n",
    "\\forall t \\in [0,T], V'(t)=\\frac{-\\beta}{h^2}AV(t)+F \\\\\n",
    "V(0)=V_0\n",
    "\\end{cases}$$\n",
    "with \n",
    "$$ V(0)= \\begin{bmatrix}\n",
    "v_1(0) \\\\\n",
    "\\vdots \\\\\n",
    "v_J(0) \\end{bmatrix} \\\\~\\\\\n",
    "V(t)= \\begin{bmatrix}\n",
    "v_1(t) \\\\\n",
    "\\vdots \\\\~\\\\\n",
    "v_J(t) \\end{bmatrix} \\\\~\\\\\n",
    "V'(t)= \\begin{bmatrix}\n",
    "v'_1(t) \\\\\n",
    "\\vdots \\\\\n",
    "v'_J(t) \\end{bmatrix} \\\\~\\\\\n",
    "A= \\begin{bmatrix}\n",
    " 2 & -1 &  & & 0 \\\\\n",
    " -1 & 2 & -1 &  &  \\\\\n",
    "  & \\ddots & \\ddots & \\ddots &  \\\\\n",
    " &  & -1 & 2 & -1\\\\\n",
    "0 &  &  & -1 & 1\\\\ \\end{bmatrix} \\\\~\\\\\n",
    "F= \\begin{bmatrix}\n",
    "a \\\\\n",
    "0 \\\\\n",
    "\\vdots \\\\\n",
    "0 \\end{bmatrix} \\\\"
   ]
  },
  {
   "cell_type": "code",
   "execution_count": 17,
   "metadata": {},
   "outputs": [
    {
     "name": "stdout",
     "output_type": "stream",
     "text": [
      "[2.96946433e+00 2.87847892e+00 2.72889599e+00 2.52376060e+00\n",
      " 2.26724872e+00 1.96458220e+00 1.62192245e+00 1.24624504e+00\n",
      " 8.45197671e-01 4.26944515e-01 8.49830835e-16]\n",
      "[[2.]\n",
      " [0.]\n",
      " [0.]\n",
      " [0.]\n",
      " [0.]\n",
      " [0.]\n",
      " [0.]\n",
      " [0.]\n",
      " [0.]\n",
      " [0.]\n",
      " [0.]]\n"
     ]
    },
    {
     "ename": "ValueError",
     "evalue": "could not broadcast input array from shape (11,11) into shape (11,)",
     "output_type": "error",
     "traceback": [
      "\u001b[1;31m---------------------------------------------------------------------------\u001b[0m",
      "\u001b[1;31mValueError\u001b[0m                                Traceback (most recent call last)",
      "Cell \u001b[1;32mIn[17], line 31\u001b[0m\n\u001b[0;32m     29\u001b[0m        \u001b[38;5;28;01mreturn\u001b[39;00m (\u001b[38;5;241m-\u001b[39mb)\u001b[38;5;241m/\u001b[39m(h\u001b[38;5;241m*\u001b[39m\u001b[38;5;241m*\u001b[39m\u001b[38;5;241m2\u001b[39m)\u001b[38;5;241m*\u001b[39mD\u001b[38;5;241m*\u001b[39mX\u001b[38;5;241m+\u001b[39mF\n\u001b[0;32m     30\u001b[0m     \u001b[38;5;28;01mreturn\u001b[39;00m solve_ivp(f,(\u001b[38;5;241m0\u001b[39m,T),V0)\n\u001b[1;32m---> 31\u001b[0m \u001b[43mFDS\u001b[49m\u001b[43m(\u001b[49m\u001b[38;5;241;43m1\u001b[39;49m\u001b[43m,\u001b[49m\u001b[43m \u001b[49m\u001b[38;5;241;43m2\u001b[39;49m\u001b[43m,\u001b[49m\u001b[43m \u001b[49m\u001b[38;5;241;43m3\u001b[39;49m\u001b[43m,\u001b[49m\u001b[43m \u001b[49m\u001b[38;5;241;43m10\u001b[39;49m\u001b[43m,\u001b[49m\u001b[43m \u001b[49m\u001b[38;5;241;43m1\u001b[39;49m\u001b[43m,\u001b[49m\u001b[38;5;241;43m10\u001b[39;49m\u001b[43m)\u001b[49m\n",
      "Cell \u001b[1;32mIn[17], line 30\u001b[0m, in \u001b[0;36mFDS\u001b[1;34m(L, a, u1, J, b, T)\u001b[0m\n\u001b[0;32m     28\u001b[0m \u001b[38;5;28;01mdef\u001b[39;00m \u001b[38;5;21mf\u001b[39m(t,X):\n\u001b[0;32m     29\u001b[0m    \u001b[38;5;28;01mreturn\u001b[39;00m (\u001b[38;5;241m-\u001b[39mb)\u001b[38;5;241m/\u001b[39m(h\u001b[38;5;241m*\u001b[39m\u001b[38;5;241m*\u001b[39m\u001b[38;5;241m2\u001b[39m)\u001b[38;5;241m*\u001b[39mD\u001b[38;5;241m*\u001b[39mX\u001b[38;5;241m+\u001b[39mF\n\u001b[1;32m---> 30\u001b[0m \u001b[38;5;28;01mreturn\u001b[39;00m \u001b[43msolve_ivp\u001b[49m\u001b[43m(\u001b[49m\u001b[43mf\u001b[49m\u001b[43m,\u001b[49m\u001b[43m(\u001b[49m\u001b[38;5;241;43m0\u001b[39;49m\u001b[43m,\u001b[49m\u001b[43mT\u001b[49m\u001b[43m)\u001b[49m\u001b[43m,\u001b[49m\u001b[43mV0\u001b[49m\u001b[43m)\u001b[49m\n",
      "File \u001b[1;32mc:\\Users\\mathi\\AppData\\Local\\Programs\\Python\\Python310\\lib\\site-packages\\scipy\\integrate\\_ivp\\ivp.py:602\u001b[0m, in \u001b[0;36msolve_ivp\u001b[1;34m(fun, t_span, y0, method, t_eval, dense_output, events, vectorized, args, **options)\u001b[0m\n\u001b[0;32m    600\u001b[0m status \u001b[38;5;241m=\u001b[39m \u001b[38;5;28;01mNone\u001b[39;00m\n\u001b[0;32m    601\u001b[0m \u001b[38;5;28;01mwhile\u001b[39;00m status \u001b[38;5;129;01mis\u001b[39;00m \u001b[38;5;28;01mNone\u001b[39;00m:\n\u001b[1;32m--> 602\u001b[0m     message \u001b[38;5;241m=\u001b[39m \u001b[43msolver\u001b[49m\u001b[38;5;241;43m.\u001b[39;49m\u001b[43mstep\u001b[49m\u001b[43m(\u001b[49m\u001b[43m)\u001b[49m\n\u001b[0;32m    604\u001b[0m     \u001b[38;5;28;01mif\u001b[39;00m solver\u001b[38;5;241m.\u001b[39mstatus \u001b[38;5;241m==\u001b[39m \u001b[38;5;124m'\u001b[39m\u001b[38;5;124mfinished\u001b[39m\u001b[38;5;124m'\u001b[39m:\n\u001b[0;32m    605\u001b[0m         status \u001b[38;5;241m=\u001b[39m \u001b[38;5;241m0\u001b[39m\n",
      "File \u001b[1;32mc:\\Users\\mathi\\AppData\\Local\\Programs\\Python\\Python310\\lib\\site-packages\\scipy\\integrate\\_ivp\\base.py:197\u001b[0m, in \u001b[0;36mOdeSolver.step\u001b[1;34m(self)\u001b[0m\n\u001b[0;32m    195\u001b[0m \u001b[38;5;28;01melse\u001b[39;00m:\n\u001b[0;32m    196\u001b[0m     t \u001b[38;5;241m=\u001b[39m \u001b[38;5;28mself\u001b[39m\u001b[38;5;241m.\u001b[39mt\n\u001b[1;32m--> 197\u001b[0m     success, message \u001b[38;5;241m=\u001b[39m \u001b[38;5;28;43mself\u001b[39;49m\u001b[38;5;241;43m.\u001b[39;49m\u001b[43m_step_impl\u001b[49m\u001b[43m(\u001b[49m\u001b[43m)\u001b[49m\n\u001b[0;32m    199\u001b[0m     \u001b[38;5;28;01mif\u001b[39;00m \u001b[38;5;129;01mnot\u001b[39;00m success:\n\u001b[0;32m    200\u001b[0m         \u001b[38;5;28mself\u001b[39m\u001b[38;5;241m.\u001b[39mstatus \u001b[38;5;241m=\u001b[39m \u001b[38;5;124m'\u001b[39m\u001b[38;5;124mfailed\u001b[39m\u001b[38;5;124m'\u001b[39m\n",
      "File \u001b[1;32mc:\\Users\\mathi\\AppData\\Local\\Programs\\Python\\Python310\\lib\\site-packages\\scipy\\integrate\\_ivp\\rk.py:144\u001b[0m, in \u001b[0;36mRungeKutta._step_impl\u001b[1;34m(self)\u001b[0m\n\u001b[0;32m    141\u001b[0m h \u001b[38;5;241m=\u001b[39m t_new \u001b[38;5;241m-\u001b[39m t\n\u001b[0;32m    142\u001b[0m h_abs \u001b[38;5;241m=\u001b[39m np\u001b[38;5;241m.\u001b[39mabs(h)\n\u001b[1;32m--> 144\u001b[0m y_new, f_new \u001b[38;5;241m=\u001b[39m \u001b[43mrk_step\u001b[49m\u001b[43m(\u001b[49m\u001b[38;5;28;43mself\u001b[39;49m\u001b[38;5;241;43m.\u001b[39;49m\u001b[43mfun\u001b[49m\u001b[43m,\u001b[49m\u001b[43m \u001b[49m\u001b[43mt\u001b[49m\u001b[43m,\u001b[49m\u001b[43m \u001b[49m\u001b[43my\u001b[49m\u001b[43m,\u001b[49m\u001b[43m \u001b[49m\u001b[38;5;28;43mself\u001b[39;49m\u001b[38;5;241;43m.\u001b[39;49m\u001b[43mf\u001b[49m\u001b[43m,\u001b[49m\u001b[43m \u001b[49m\u001b[43mh\u001b[49m\u001b[43m,\u001b[49m\u001b[43m \u001b[49m\u001b[38;5;28;43mself\u001b[39;49m\u001b[38;5;241;43m.\u001b[39;49m\u001b[43mA\u001b[49m\u001b[43m,\u001b[49m\n\u001b[0;32m    145\u001b[0m \u001b[43m                       \u001b[49m\u001b[38;5;28;43mself\u001b[39;49m\u001b[38;5;241;43m.\u001b[39;49m\u001b[43mB\u001b[49m\u001b[43m,\u001b[49m\u001b[43m \u001b[49m\u001b[38;5;28;43mself\u001b[39;49m\u001b[38;5;241;43m.\u001b[39;49m\u001b[43mC\u001b[49m\u001b[43m,\u001b[49m\u001b[43m \u001b[49m\u001b[38;5;28;43mself\u001b[39;49m\u001b[38;5;241;43m.\u001b[39;49m\u001b[43mK\u001b[49m\u001b[43m)\u001b[49m\n\u001b[0;32m    146\u001b[0m scale \u001b[38;5;241m=\u001b[39m atol \u001b[38;5;241m+\u001b[39m np\u001b[38;5;241m.\u001b[39mmaximum(np\u001b[38;5;241m.\u001b[39mabs(y), np\u001b[38;5;241m.\u001b[39mabs(y_new)) \u001b[38;5;241m*\u001b[39m rtol\n\u001b[0;32m    147\u001b[0m error_norm \u001b[38;5;241m=\u001b[39m \u001b[38;5;28mself\u001b[39m\u001b[38;5;241m.\u001b[39m_estimate_error_norm(\u001b[38;5;28mself\u001b[39m\u001b[38;5;241m.\u001b[39mK, h, scale)\n",
      "File \u001b[1;32mc:\\Users\\mathi\\AppData\\Local\\Programs\\Python\\Python310\\lib\\site-packages\\scipy\\integrate\\_ivp\\rk.py:61\u001b[0m, in \u001b[0;36mrk_step\u001b[1;34m(fun, t, y, f, h, A, B, C, K)\u001b[0m\n\u001b[0;32m     14\u001b[0m \u001b[38;5;28;01mdef\u001b[39;00m \u001b[38;5;21mrk_step\u001b[39m(fun, t, y, f, h, A, B, C, K):\n\u001b[0;32m     15\u001b[0m \u001b[38;5;250m    \u001b[39m\u001b[38;5;124;03m\"\"\"Perform a single Runge-Kutta step.\u001b[39;00m\n\u001b[0;32m     16\u001b[0m \n\u001b[0;32m     17\u001b[0m \u001b[38;5;124;03m    This function computes a prediction of an explicit Runge-Kutta method and\u001b[39;00m\n\u001b[1;32m   (...)\u001b[0m\n\u001b[0;32m     59\u001b[0m \u001b[38;5;124;03m           Equations I: Nonstiff Problems\", Sec. II.4.\u001b[39;00m\n\u001b[0;32m     60\u001b[0m \u001b[38;5;124;03m    \"\"\"\u001b[39;00m\n\u001b[1;32m---> 61\u001b[0m     \u001b[43mK\u001b[49m\u001b[43m[\u001b[49m\u001b[38;5;241;43m0\u001b[39;49m\u001b[43m]\u001b[49m \u001b[38;5;241m=\u001b[39m f\n\u001b[0;32m     62\u001b[0m     \u001b[38;5;28;01mfor\u001b[39;00m s, (a, c) \u001b[38;5;129;01min\u001b[39;00m \u001b[38;5;28menumerate\u001b[39m(\u001b[38;5;28mzip\u001b[39m(A[\u001b[38;5;241m1\u001b[39m:], C[\u001b[38;5;241m1\u001b[39m:]), start\u001b[38;5;241m=\u001b[39m\u001b[38;5;241m1\u001b[39m):\n\u001b[0;32m     63\u001b[0m         dy \u001b[38;5;241m=\u001b[39m np\u001b[38;5;241m.\u001b[39mdot(K[:s]\u001b[38;5;241m.\u001b[39mT, a[:s]) \u001b[38;5;241m*\u001b[39m h\n",
      "\u001b[1;31mValueError\u001b[0m: could not broadcast input array from shape (11,11) into shape (11,)"
     ]
    }
   ],
   "source": [
    "def matrix_fdm_forward_dnc(J):\n",
    "    A = 2 * np.eye(J+1)\n",
    "    for i in range(J+1):\n",
    "        if i == 0:\n",
    "            A[i,i+1] = -1\n",
    "        elif i == J:\n",
    "            A[i,i-1] = -1\n",
    "            A[i,i] = 1\n",
    "        else:\n",
    "            A[i,i-1] = -1\n",
    "            A[i,i+1] = -1\n",
    "    return A\n",
    "\n",
    "#A = matrix_fdm_forward_dnc(J)\n",
    "\n",
    "\n",
    "J=10\n",
    "L=1\n",
    "a=2\n",
    "def FDS(L,a,u1, J,b, T):\n",
    "    h=L/(J+1)\n",
    "    F= np.append(a, np.zeros(J)).reshape(J+1,1)\n",
    "    D=((-1)*np.eye(J+1, k=-1)+2*np.eye(J+1)-1*np.eye(J+1,k=1))\n",
    "    D[J][J]-=1\n",
    "    V0=np.array([u1*np.cos((np.pi*j*h)/(2*L)) for j in range(1,J+2)])\n",
    "    print(V0)\n",
    "    print(F)\n",
    "    def f(t,X):\n",
    "       return (-b)/(h**2)*D*X+F\n",
    "    return solve_ivp(f,(0,T),V0)\n",
    "FDS(1, 2, 3, 10, 1,10)"
   ]
  }
 ],
 "metadata": {
  "kernelspec": {
   "display_name": "Python 3",
   "language": "python",
   "name": "python3"
  },
  "language_info": {
   "codemirror_mode": {
    "name": "ipython",
    "version": 3
   },
   "file_extension": ".py",
   "mimetype": "text/x-python",
   "name": "python",
   "nbconvert_exporter": "python",
   "pygments_lexer": "ipython3",
   "version": "3.10.6"
  }
 },
 "nbformat": 4,
 "nbformat_minor": 2
}
