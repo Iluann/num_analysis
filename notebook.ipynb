{
 "cells": [
  {
   "cell_type": "markdown",
   "metadata": {},
   "source": [
    "# **Numerical Analysis Project - Week 3**\n",
    "*Mathilde Bénard, Hector Giraud, Emilie Soret - TEAM 5, GROUP E*\n",
    "\n",
    "---"
   ]
  },
  {
   "cell_type": "code",
   "execution_count": 1,
   "metadata": {},
   "outputs": [],
   "source": [
    "import numpy as np"
   ]
  },
  {
   "cell_type": "code",
   "execution_count": null,
   "metadata": {},
   "outputs": [],
   "source": [
    "def matrix_fdm_forward_dnc(J):\n",
    "    A = 2 * np.eye(J+1)\n",
    "    for i in range(J+1):\n",
    "        if i == 0:\n",
    "            A[i,i+1] = -1\n",
    "        elif i == J:\n",
    "            A[i,i-1] = -1\n",
    "            A[i,i] = 1\n",
    "        else:\n",
    "            A[i,i-1] = -1\n",
    "            A[i,i+1] = -1\n",
    "    return A\n",
    "\n",
    "A = matrix_fdm_forward_dnc(J)"
   ]
  }
 ],
 "metadata": {
  "kernelspec": {
   "display_name": "Python 3",
   "language": "python",
   "name": "python3"
  },
  "language_info": {
   "codemirror_mode": {
    "name": "ipython",
    "version": 3
   },
   "file_extension": ".py",
   "mimetype": "text/x-python",
   "name": "python",
   "nbconvert_exporter": "python",
   "pygments_lexer": "ipython3",
   "version": "3.10.6"
  }
 },
 "nbformat": 4,
 "nbformat_minor": 2
}
