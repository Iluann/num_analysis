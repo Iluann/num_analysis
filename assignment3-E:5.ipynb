{
 "cells": [
  {
   "cell_type": "markdown",
   "metadata": {},
   "source": [
    "# **Numerical Analysis Project - Week 3**\n",
    "*Mathilde Bénard, Hector Giraud, Emilie Soret - TEAM 5, GROUP E*\n",
    "\n",
    "---"
   ]
  },
  {
   "cell_type": "markdown",
   "metadata": {},
   "source": [
    "Given that $\\alpha = 0$ and  $ f = 0$, the IBVP consists of the partial differential equation:\n",
    "\n",
    "$$\n",
    "\\partial_t u = \\beta \\partial_x^2 u \\\n",
    "$$\n",
    "\n",
    "with initial condition:\n",
    "\n",
    "$$\n",
    "u(t=0, x) = u^0(x)\n",
    "$$\n",
    "\n",
    "and boundary conditions:\n",
    "\n",
    "$$\n",
    "u(t, x=0) = a, \\quad \\partial_x u(t, x=L) = 0, \\quad \\text{for } a > 0.\n",
    "$$\n",
    "\n",
    "#### (a)  Is it an ODE or a PDE? Is it linear, homogeneous, autonomous?\n",
    "\n",
    "This is a **partial differential equation (PDE)** because it involves partial derivatives with respect to both time $t$ and space $x$.\n",
    "Yes, it is a **linear PDE** because the function $u$ and its derivatives appear only in the first degree and there are no nonlinear terms (such as  $u^2$ or $(\\partial_x u)^2$).\n",
    "The **PDE itself is homogeneous** (since the right-hand side is zero). However, the boundary conditions introduce an inhomogeneity (due to $u(t, x=0) = a$, where  $a > 0$), making the full IBVP **inhomogeneous**.\n",
    "Yes, the PDE is **autonomous** because the coefficients do not explicitly depend on time  $t$."
   ]
  },
  {
   "cell_type": "code",
   "execution_count": 1,
   "metadata": {},
   "outputs": [],
   "source": [
    "import numpy as np"
   ]
  },
  {
   "cell_type": "code",
   "execution_count": null,
   "metadata": {},
   "outputs": [],
   "source": [
    "def matrix_fdm_forward_dnc(J):\n",
    "    A = 2 * np.eye(J+1)\n",
    "    for i in range(J+1):\n",
    "        if i == 0:\n",
    "            A[i,i+1] = -1\n",
    "        elif i == J:\n",
    "            A[i,i-1] = -1\n",
    "            A[i,i] = 1\n",
    "        else:\n",
    "            A[i,i-1] = -1\n",
    "            A[i,i+1] = -1\n",
    "    return A\n",
    "\n",
    "A = matrix_fdm_forward_dnc(J)"
   ]
  }
 ],
 "metadata": {
  "kernelspec": {
   "display_name": "Python 3",
   "language": "python",
   "name": "python3"
  },
  "language_info": {
   "codemirror_mode": {
    "name": "ipython",
    "version": 3
   },
   "file_extension": ".py",
   "mimetype": "text/x-python",
   "name": "python",
   "nbconvert_exporter": "python",
   "pygments_lexer": "ipython3",
   "version": "3.10.6"
  }
 },
 "nbformat": 4,
 "nbformat_minor": 2
}
